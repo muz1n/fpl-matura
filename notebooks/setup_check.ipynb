{
 "cells": [
  {
   "cell_type": "code",
   "execution_count": null,
   "id": "cbd71c5d",
   "metadata": {},
   "outputs": [
    {
     "data": {
      "text/plain": [
       "4.735999999999998"
      ]
     },
     "execution_count": 1,
     "metadata": {},
     "output_type": "execute_result"
    }
   ],
   "source": [
    "import pandas as pd\n",
    "from sklearn.ensemble import RandomForestRegressor\n",
    "import numpy as np\n",
    "\n",
    "df = pd.DataFrame({\"x\":[1,2,3,4,5], \"y\":[1.2,1.9,3.2,3.9,5.1]})\n",
    "X = df[[\"x\"]].values\n",
    "y = df[\"y\"].to_numpy()\n",
    "m = RandomForestRegressor(n_estimators=50, random_state=0).fit(X, y)\n",
    "float(m.predict(np.array([[6]]))[0])"
   ]
  }
 ],
 "metadata": {
  "kernelspec": {
   "display_name": ".venv",
   "language": "python",
   "name": "python3"
  },
  "language_info": {
   "codemirror_mode": {
    "name": "ipython",
    "version": 3
   },
   "file_extension": ".py",
   "mimetype": "text/x-python",
   "name": "python",
   "nbconvert_exporter": "python",
   "pygments_lexer": "ipython3",
   "version": "3.13.7"
  }
 },
 "nbformat": 4,
 "nbformat_minor": 5
}
